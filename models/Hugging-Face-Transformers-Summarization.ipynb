{
 "cells": [
  {
   "cell_type": "code",
   "execution_count": null,
   "id": "a3e2ee27",
   "metadata": {},
   "outputs": [],
   "source": [
    "pip install transformers"
   ]
  },
  {
   "cell_type": "code",
   "execution_count": null,
   "id": "d7dda5f9",
   "metadata": {},
   "outputs": [],
   "source": [
    "from transformers import pipeline"
   ]
  },
  {
   "cell_type": "code",
   "execution_count": 37,
   "id": "1b6dc14d",
   "metadata": {},
   "outputs": [
    {
     "name": "stderr",
     "output_type": "stream",
     "text": [
      "No model was supplied, defaulted to t5-small (https://huggingface.co/t5-small)\n",
      "All model checkpoint layers were used when initializing TFT5ForConditionalGeneration.\n",
      "\n",
      "All the layers of TFT5ForConditionalGeneration were initialized from the model checkpoint at t5-small.\n",
      "If your task is similar to the task the model of the checkpoint was trained on, you can already use TFT5ForConditionalGeneration for predictions without further training.\n"
     ]
    }
   ],
   "source": [
    "summarizer = pipeline(\"summarization\")"
   ]
  },
  {
   "cell_type": "code",
   "execution_count": 38,
   "id": "6ab5da01",
   "metadata": {},
   "outputs": [],
   "source": [
    "import os\n",
    "os.environ[\"TOKENIZERS_PARALLELISM\"] = \"false\""
   ]
  },
  {
   "cell_type": "code",
   "execution_count": 39,
   "id": "1f5b1374",
   "metadata": {},
   "outputs": [],
   "source": [
    "ARTICLE = '''\n",
    "Kabul airport attack kills 60 Afghans, 13 US troops\n",
    "By SAYED ZIARMAL HASHEMI, RAHIM FAIEZ, LOLITA C. BALDOR and JOSEPH KRAUSS\n",
    "August 27, 2021\n",
    "Wounded Afghans lie on a bed at a hospital after a deadly explosions outside the airport in Kabul, Afghanistan, Thursday, Aug. 26, 2021. Two suicide bombers and gunmen attacked crowds of Afghans flocking to Kabul's airport Thursday, transforming a scene of desperation into one of horror in the waning days of an airlift for those fleeing the Taliban takeover. (AP Photo/Mohammad Asif Khan)\n",
    "1 of 19\n",
    "Wounded Afghans lie on a bed at a hospital after a deadly explosions outside the airport in Kabul, Afghanistan, Thursday, Aug. 26, 2021. Two suicide bombers and gunmen attacked crowds of Afghans flocking to Kabul's airport Thursday, transforming a scene of desperation into one of horror in the waning days of an airlift for those fleeing the Taliban takeover. (AP Photo/Mohammad Asif Khan)\n",
    "KABUL, Afghanistan (AP) — Two suicide bombers and gunmen attacked crowds of Afghans flocking to Kabul’s airport Thursday, transforming a scene of desperation into one of horror in the waning days of an airlift for those fleeing the Taliban takeover. The attacks killed at least 60 Afghans and 13 U.S. troops, Afghan and U.S. officials said.\n",
    "\n",
    "The U.S. general overseeing the evacuation said the attacks would not stop the United States from evacuating Americans and others, and flights out were continuing. Gen. Frank McKenzie, head of U.S. Central Command, said there was a large amount of security at the airport, and alternate routes were being used to get evacuees in. About 5,000 people were awaiting flights on the airfield, McKenzie said.\n",
    "\n",
    "The blasts came hours after Western officials warned of a major attack, urging people to leave the airport. But that advice went largely unheeded by Afghans desperate to escape the country in the last few days of an American-led evacuation before the U.S. officially ends its 20-year presence on Aug. 31.\n",
    "\n",
    "The Islamic State group claimed responsibility for the killings on its Amaq news channel. The IS affiliate in Afghanistan is far more radical than the Taliban, who recently took control of the country in a lightning blitz. The Taliban were not believed to have been involved in the attacks and condemned the blasts.\n",
    "\n",
    "In an emotional speech from the White House, U.S. President Joe Biden said the latest bloodshed would not drive the U.S. out of Afghanistan earlier than scheduled, and that he had instructed the U.S. military to develop plans to strike IS.\n",
    "\n",
    "“We will not forgive. We will not forget. We will hunt you down and make you pay,” Biden said.\n",
    "\n",
    "U.S. officials initially said 11 Marines and one Navy medic were among those who died. Another service member died hours later. Eighteen service members were wounded and officials warned the toll could grow. More than 140 Afghans were wounded, an Afghan official said.\n",
    "\n",
    "One of the bombers struck people standing knee-deep in a wastewater canal under the sweltering sun, throwing bodies into the fetid water. Those who moments earlier had hoped to get on flights out could be seen carrying the wounded to ambulances in a daze, their own clothes darkened with blood.\n",
    "\n",
    "Emergency, an Italian charity that operates hospitals in Afghanistan, said it had received at least 60 patients wounded in the airport attack, in addition to 10 who were dead when they arrived.\n",
    "\n",
    "“Surgeons will be working into the night,” said Marco Puntin, the charity’s manager in Afghanistan. The wounded overflowed the triage zone into the physiotherapy area and more beds were being added, he said.\n",
    "\n",
    "The Afghan official who confirmed the overall Afghan toll spoke on condition of anonymity because he was not authorized to brief media.\n",
    "\n",
    "Pentagon spokesman John Kirby said one explosion was near an airport entrance and another was a short distance away by a hotel. McKenzie said clearly some failure at the airport allowed a suicide bomber to get so close to the gate.\n",
    "\n",
    "He said the Taliban has been screening people outside the gates, though there was no indication that the Taliban deliberately allowed Thursday’s attacks to happen. He said the U.S. has asked Taliban commanders to tighten security around the airport’s perimeter.\n",
    "\n",
    "Adam Khan was waiting nearby when he saw the first explosion outside what’s known as the Abbey gate.\n",
    "'''"
   ]
  },
  {
   "cell_type": "code",
   "execution_count": 40,
   "id": "208024c5",
   "metadata": {},
   "outputs": [
    {
     "name": "stderr",
     "output_type": "stream",
     "text": [
      "Token indices sequence length is longer than the specified maximum sequence length for this model (1160 > 512). Running this sequence through the model will result in indexing errors\n"
     ]
    },
    {
     "data": {
      "text/plain": [
       "[{'summary_text': \"two suicide bombers and gunmen attacked crowds of Afghans flocking to Kabul's airport . they transformed a scene of desperation into one of horror in the waning days of an airlift for those fleeing the Taliban takeover . the attacks killed at least 60 Afghans and 13 U.S. troops, officials said .\"}]"
      ]
     },
     "execution_count": 40,
     "metadata": {},
     "output_type": "execute_result"
    }
   ],
   "source": [
    "summarizer(ARTICLE, max_length=130, min_length=30, do_sample=False)"
   ]
  },
  {
   "cell_type": "code",
   "execution_count": null,
   "id": "8474b298",
   "metadata": {},
   "outputs": [],
   "source": []
  }
 ],
 "metadata": {
  "kernelspec": {
   "display_name": "Python 3 (ipykernel)",
   "language": "python",
   "name": "python3"
  },
  "language_info": {
   "codemirror_mode": {
    "name": "ipython",
    "version": 3
   },
   "file_extension": ".py",
   "mimetype": "text/x-python",
   "name": "python",
   "nbconvert_exporter": "python",
   "pygments_lexer": "ipython3",
   "version": "3.8.10"
  }
 },
 "nbformat": 4,
 "nbformat_minor": 5
}
